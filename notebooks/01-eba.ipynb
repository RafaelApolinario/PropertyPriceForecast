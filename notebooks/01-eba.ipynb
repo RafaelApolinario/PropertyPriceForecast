{
 "cells": [
  {
   "cell_type": "code",
   "execution_count": 35,
   "metadata": {},
   "outputs": [
    {
     "name": "stdout",
     "output_type": "stream",
     "text": [
      "\n",
      " Primeiras 5 linhas do dataset:\n",
      "      price  area  bedrooms  bathrooms  stories mainroad guestroom basement  \\\n",
      "0  13300000  7420         4          2        3      yes        no       no   \n",
      "1  12250000  8960         4          4        4      yes        no       no   \n",
      "2  12250000  9960         3          2        2      yes        no      yes   \n",
      "3  12215000  7500         4          2        2      yes        no      yes   \n",
      "4  11410000  7420         4          1        2      yes       yes      yes   \n",
      "\n",
      "  hotwaterheating airconditioning  parking prefarea furnishingstatus  \n",
      "0              no             yes        2      yes        furnished  \n",
      "1              no             yes        3       no        furnished  \n",
      "2              no              no        2      yes   semi-furnished  \n",
      "3              no             yes        3      yes        furnished  \n",
      "4              no             yes        2       no        furnished  \n",
      "\n",
      " Resumo estatístico dos dados iniciais:\n",
      "              price          area    bedrooms   bathrooms     stories  \\\n",
      "count  5.450000e+02    545.000000  545.000000  545.000000  545.000000   \n",
      "mean   4.766729e+06   5150.541284    2.965138    1.286239    1.805505   \n",
      "std    1.870440e+06   2170.141023    0.738064    0.502470    0.867492   \n",
      "min    1.750000e+06   1650.000000    1.000000    1.000000    1.000000   \n",
      "25%    3.430000e+06   3600.000000    2.000000    1.000000    1.000000   \n",
      "50%    4.340000e+06   4600.000000    3.000000    1.000000    2.000000   \n",
      "75%    5.740000e+06   6360.000000    3.000000    2.000000    2.000000   \n",
      "max    1.330000e+07  16200.000000    6.000000    4.000000    4.000000   \n",
      "\n",
      "          parking  \n",
      "count  545.000000  \n",
      "mean     0.693578  \n",
      "std      0.861586  \n",
      "min      0.000000  \n",
      "25%      0.000000  \n",
      "50%      0.000000  \n",
      "75%      1.000000  \n",
      "max      3.000000  \n"
     ]
    }
   ],
   "source": [
    "import pandas as pd\n",
    "import numpy as np\n",
    "import seaborn as sns\n",
    "import matplotlib.pyplot as plt\n",
    "from sklearn.preprocessing import MinMaxScaler\n",
    "from sklearn.ensemble import RandomForestRegressor\n",
    "from sklearn.model_selection import train_test_split , GridSearchCV\n",
    "from sklearn.linear_model import LinearRegression, Ridge\n",
    "from sklearn.metrics import r2_score, mean_absolute_error, mean_squared_error\n",
    "from sklearn.tree import plot_tree\n",
    "import plotly.graph_objects as go\n",
    "from plotly.subplots import make_subplots\n",
    "import joblib\n",
    "\n",
    "\n",
    "# 3.1 - Análise Exploratória de Dados (EDA)\n",
    "# 3.1.1 - Carregar e examinar o conjunto de dados\n",
    "base_casas = pd.read_csv(\"../data/raw/Housing.csv\")\n",
    "\n",
    "# 3.1.2 - Exibir as primeiras linhas do dataset\n",
    "print(\"\\n Primeiras 5 linhas do dataset:\")\n",
    "print(base_casas.head())\n",
    "\n",
    "print(\"\\n Resumo estatístico dos dados iniciais:\")\n",
    "print(base_casas.describe())"
   ]
  },
  {
   "cell_type": "code",
   "execution_count": 36,
   "metadata": {},
   "outputs": [
    {
     "name": "stdout",
     "output_type": "stream",
     "text": [
      "\n",
      " Informações gerais do dataset:\n",
      "<class 'pandas.core.frame.DataFrame'>\n",
      "RangeIndex: 545 entries, 0 to 544\n",
      "Data columns (total 13 columns):\n",
      " #   Column            Non-Null Count  Dtype \n",
      "---  ------            --------------  ----- \n",
      " 0   price             545 non-null    int64 \n",
      " 1   area              545 non-null    int64 \n",
      " 2   bedrooms          545 non-null    int64 \n",
      " 3   bathrooms         545 non-null    int64 \n",
      " 4   stories           545 non-null    int64 \n",
      " 5   mainroad          545 non-null    object\n",
      " 6   guestroom         545 non-null    object\n",
      " 7   basement          545 non-null    object\n",
      " 8   hotwaterheating   545 non-null    object\n",
      " 9   airconditioning   545 non-null    object\n",
      " 10  parking           545 non-null    int64 \n",
      " 11  prefarea          545 non-null    object\n",
      " 12  furnishingstatus  545 non-null    object\n",
      "dtypes: int64(6), object(7)\n",
      "memory usage: 55.5+ KB\n",
      "None\n"
     ]
    }
   ],
   "source": [
    "# 3.1.3 - Verificar informações gerais do dataset\n",
    "print(\"\\n Informações gerais do dataset:\")\n",
    "print(base_casas.info())"
   ]
  },
  {
   "cell_type": "code",
   "execution_count": 37,
   "metadata": {},
   "outputs": [
    {
     "name": "stdout",
     "output_type": "stream",
     "text": [
      "\n",
      " Valores ausentes por coluna:\n",
      "price               0\n",
      "area                0\n",
      "bedrooms            0\n",
      "bathrooms           0\n",
      "stories             0\n",
      "mainroad            0\n",
      "guestroom           0\n",
      "basement            0\n",
      "hotwaterheating     0\n",
      "airconditioning     0\n",
      "parking             0\n",
      "prefarea            0\n",
      "furnishingstatus    0\n",
      "dtype: int64\n"
     ]
    }
   ],
   "source": [
    "# 3.1.4 - Verificar valores ausentes\n",
    "print(\"\\n Valores ausentes por coluna:\")\n",
    "print(base_casas.isnull().sum())"
   ]
  },
  {
   "cell_type": "code",
   "execution_count": 38,
   "metadata": {},
   "outputs": [
    {
     "name": "stdout",
     "output_type": "stream",
     "text": [
      "\n",
      " Primeiras 5 linhas do dataset:\n",
      "   mainroad  guestroom  basement  hotwaterheating  airconditioning  prefarea\n",
      "0         1          0         0                0                1         1\n",
      "1         1          0         0                0                1         0\n",
      "2         1          0         1                0                0         1\n",
      "3         1          0         1                0                1         1\n",
      "4         1          1         1                0                1         0\n"
     ]
    }
   ],
   "source": [
    "# 3.1.5 - Converter variáveis categóricas binárias (Yes/No → 0/1)\n",
    "# Lista de colunas booleanas\n",
    "bool_columns = ['mainroad', 'guestroom', 'basement', 'hotwaterheating', 'airconditioning', 'prefarea']\n",
    "\n",
    "# Limpa os dados e transforma 'yes'/'no' em 1/0\n",
    "for col in bool_columns:\n",
    "    base_casas[col] = base_casas[col].astype(str).str.strip().str.lower()\n",
    "    base_casas[col] = base_casas[col].replace({'yes': 1, 'no': 0})\n",
    "print(\"\\n Primeiras 5 linhas do dataset:\")\n",
    "print(base_casas[bool_columns].head())\n"
   ]
  },
  {
   "cell_type": "code",
   "execution_count": 39,
   "metadata": {},
   "outputs": [
    {
     "name": "stdout",
     "output_type": "stream",
     "text": [
      "      price  area  bedrooms  bathrooms  stories  mainroad  guestroom  \\\n",
      "0  13300000  7420         4          2        3         1          0   \n",
      "1  12250000  8960         4          4        4         1          0   \n",
      "2  12250000  9960         3          2        2         1          0   \n",
      "3  12215000  7500         4          2        2         1          0   \n",
      "4  11410000  7420         4          1        2         1          1   \n",
      "\n",
      "   basement  hotwaterheating  airconditioning  parking  prefarea  \\\n",
      "0         0                0                1        2         1   \n",
      "1         0                0                1        3         0   \n",
      "2         1                0                0        2         1   \n",
      "3         1                0                1        3         1   \n",
      "4         1                0                1        2         0   \n",
      "\n",
      "   furnishingstatus_semi-furnished  furnishingstatus_unfurnished  \n",
      "0                            False                         False  \n",
      "1                            False                         False  \n",
      "2                             True                         False  \n",
      "3                            False                         False  \n",
      "4                            False                         False  \n"
     ]
    }
   ],
   "source": [
    "# 3.1.6 - Converter variáveis categóricas múltiplas (Furnishing Status)\n",
    "base_casas = pd.get_dummies(base_casas, columns=['furnishingstatus'], drop_first=True)\n",
    "print(base_casas.head())"
   ]
  },
  {
   "cell_type": "code",
   "execution_count": 40,
   "metadata": {},
   "outputs": [],
   "source": [
    "# 3.1.7 - Preencher valores ausentes com a mediana (agora todas as colunas são numéricas)\n",
    "base_casas.fillna(base_casas.median(), inplace=True)"
   ]
  },
  {
   "cell_type": "code",
   "execution_count": 41,
   "metadata": {},
   "outputs": [
    {
     "data": {
      "image/png": "[encoded data removed]",
      "text/plain": [
       "<Figure size 1200x800 with 2 Axes>"
      ]
     },
     "metadata": {},
     "output_type": "display_data"
    }
   ],
   "source": [
    "plt.figure(figsize=(12,8))\n",
    "sns.heatmap(base_casas.corr(), annot=True, cmap=\"coolwarm\", fmt=\".2f\")\n",
    "plt.title(\"Mapa de Correlação das Variáveis\")\n",
    "plt.show()\n",
    "\n",
    "#area: 0.54 Quanto maior a área da casa, maior tende a ser o preço.\n",
    "\n",
    "#bathrooms: 0.52 Casas com mais banheiros tendem a ter preços mais altos.\n",
    "\n",
    "#furnishingstatus_unfurnished: -0.28 Casas não mobiliadas tendem a ter preços mais baixos."
   ]
  },
  {
   "cell_type": "code",
   "execution_count": 42,
   "metadata": {},
   "outputs": [
    {
     "name": "stdout",
     "output_type": "stream",
     "text": [
      "\n",
      "  1º Quartil (Q1) – 25% dos dados abaixo:\n",
      "price    3430000.0\n",
      "area        3600.0\n",
      "Name: 0.25, dtype: float64\n",
      "\n",
      "  3º Quartil (Q3) – 75% dos dados abaixo:\n",
      "price    5740000.0\n",
      "area        6360.0\n",
      "Name: 0.75, dtype: float64\n",
      "\n",
      "  Intervalo Interquartil (IQR = Q3 - Q1):\n",
      "price    2310000.0\n",
      "area        2760.0\n",
      "dtype: float64\n",
      "\n",
      "  Tamanho do DataFrame antes de remover outliers: (545, 14)\n",
      " Tamanho do DataFrame depois de remover outliers: (542, 14)\n"
     ]
    }
   ],
   "source": [
    "# 3.1.9 - Identificar e lidar com outliers usando IQR em colunas específicas\n",
    "#limpar somente price e area, evitando perder variáveis importantes como prefarea, hotwaterheating\n",
    "outlier_cols = ['price', 'area']\n",
    "\n",
    "Q1 = base_casas[outlier_cols].quantile(0.25)\n",
    "Q3 = base_casas[outlier_cols].quantile(0.75)\n",
    "IQR = Q3 - Q1\n",
    "\n",
    "print(\"\\n  1º Quartil (Q1) – 25% dos dados abaixo:\")\n",
    "print(Q1)\n",
    "\n",
    "print(\"\\n  3º Quartil (Q3) – 75% dos dados abaixo:\")\n",
    "print(Q3)\n",
    "\n",
    "print(\"\\n  Intervalo Interquartil (IQR = Q3 - Q1):\")\n",
    "print(IQR)\n",
    "\n",
    "print(f\"\\n  Tamanho do DataFrame antes de remover outliers: {base_casas.shape}\")\n",
    "\n",
    "fator = 3 \n",
    "filtro = ~((base_casas[outlier_cols] < (Q1 - fator * IQR)) | \n",
    "           (base_casas[outlier_cols] > (Q3 + fator * IQR))).any(axis=1)\n",
    "\n",
    "base_casas = base_casas[filtro]\n",
    "\n",
    "print(f\" Tamanho do DataFrame depois de remover outliers: {base_casas.shape}\")\n"
   ]
  },
  {
   "cell_type": "code",
   "execution_count": 43,
   "metadata": {},
   "outputs": [
    {
     "name": "stdout",
     "output_type": "stream",
     "text": [
      "\n",
      "  Resumo estatístico dos dados limpos:\n",
      "              price          area    bedrooms   bathrooms     stories  \\\n",
      "count  5.420000e+02    542.000000  542.000000  542.000000  542.000000   \n",
      "mean   4.738883e+06   5106.688192    2.959410    1.282288    1.804428   \n",
      "std    1.823855e+06   2072.841761    0.733547    0.497331    0.867645   \n",
      "min    1.750000e+06   1650.000000    1.000000    1.000000    1.000000   \n",
      "25%    3.430000e+06   3588.000000    2.000000    1.000000    1.000000   \n",
      "50%    4.340000e+06   4540.000000    3.000000    1.000000    2.000000   \n",
      "75%    5.740000e+06   6360.000000    3.000000    2.000000    2.000000   \n",
      "max    1.225000e+07  13200.000000    6.000000    4.000000    4.000000   \n",
      "\n",
      "         mainroad   guestroom    basement  hotwaterheating  airconditioning  \\\n",
      "count  542.000000  542.000000  542.000000       542.000000       542.000000   \n",
      "mean     0.857934    0.178967    0.352399         0.046125         0.313653   \n",
      "std      0.349441    0.383679    0.478159         0.209951         0.464406   \n",
      "min      0.000000    0.000000    0.000000         0.000000         0.000000   \n",
      "25%      1.000000    0.000000    0.000000         0.000000         0.000000   \n",
      "50%      1.000000    0.000000    0.000000         0.000000         0.000000   \n",
      "75%      1.000000    0.000000    1.000000         0.000000         1.000000   \n",
      "max      1.000000    1.000000    1.000000         1.000000         1.000000   \n",
      "\n",
      "          parking    prefarea  \n",
      "count  542.000000  542.000000  \n",
      "mean     0.690037    0.234317  \n",
      "std      0.859788    0.423963  \n",
      "min      0.000000    0.000000  \n",
      "25%      0.000000    0.000000  \n",
      "50%      0.000000    0.000000  \n",
      "75%      1.000000    0.000000  \n",
      "max      3.000000    1.000000  \n"
     ]
    }
   ],
   "source": [
    "# 3.1.10 - Exibir estatísticas básicas após a limpeza dos dados\n",
    "print(\"\\n  Resumo estatístico dos dados limpos:\")\n",
    "print(base_casas.describe())"
   ]
  },
  {
   "cell_type": "code",
   "execution_count": 44,
   "metadata": {},
   "outputs": [
    {
     "name": "stdout",
     "output_type": "stream",
     "text": [
      "\n",
      "  Novas variáveis normalizadas:\n",
      "   area_per_bedroom  area_per_bathroom\n",
      "1          0.298923           0.111111\n",
      "2          0.472584           0.333333\n",
      "3          0.240232           0.233577\n",
      "4          0.237016           0.531225\n",
      "5          0.340730           0.132198\n"
     ]
    }
   ],
   "source": [
    "# 3.2 - Engenharia e Seleção de Features\n",
    "# 3.2.1 - Criar variáveis relevantes que possam melhorar o desempenho do modelo\n",
    "\n",
    "# Casas grandes com poucos banheiros podem ter valor menor, ou não.\n",
    "base_casas['area_per_bathroom'] = base_casas['area'] / base_casas['bathrooms']\n",
    "\n",
    "# Talvez a Casa A tenha quartos maiores (ou mais confortáveis), o que pode influenciar o preço, ou não.\n",
    "base_casas['area_per_bedroom'] = base_casas['area'] / base_casas['bedrooms']\n",
    "\n",
    "# 3.2.2 - Aplicar transformações apropriadas às variáveis (normalização)\n",
    "scaler = MinMaxScaler()\n",
    "base_casas[['area_per_bedroom', 'area_per_bathroom']] = scaler.fit_transform(\n",
    "    base_casas[['area_per_bedroom', 'area_per_bathroom']]\n",
    ")\n",
    "\n",
    "# Print das novas variáveis após normalização\n",
    "print(\"\\n  Novas variáveis normalizadas:\")\n",
    "print(base_casas[['area_per_bedroom', 'area_per_bathroom']].head())\n"
   ]
  },
  {
   "cell_type": "code",
   "execution_count": 45,
   "metadata": {},
   "outputs": [
    {
     "data": {
      "image/png": "[encoded data removed]",
      "text/plain": [
       "<Figure size 1200x600 with 1 Axes>"
      ]
     },
     "metadata": {},
     "output_type": "display_data"
    }
   ],
   "source": [
    "# 3.2.3 - Selecionar as variáveis mais importantes para o modelo utilizando Random Forest\n",
    "features_importantes = [\n",
    "    'area', \n",
    "    'area_per_bathroom', \n",
    "    'bathrooms', \n",
    "    'area_per_bedroom', \n",
    "    'airconditioning',\n",
    "    'parking',\n",
    "    'stories',\n",
    "    'prefarea'\n",
    "]\n",
    "X = base_casas[features_importantes]\n",
    "y = base_casas['price']\n",
    "\n",
    "model = RandomForestRegressor(n_estimators=100, random_state=42)\n",
    "model.fit(X, y)\n",
    "\n",
    "importances = pd.Series(model.feature_importances_, index=X.columns)\n",
    "importances.sort_values().plot(kind='barh', figsize=(12, 6), title=\"Importância das Features - Random Forest\")\n",
    "\n",
    "explicacao = (\n",
    "    \"Variáveis mais importantes:\\n\"\n",
    "    \"- area: casas maiores tendem a ser mais caras(~38%)\\n\"\n",
    "    \"- area_per_bathroom: avalia proporção de banheiros\\n\"\n",
    "    \"- bathrooms: impacto direto no conforto\\n\"\n",
    "    \"- area_per_bedroom: indica tamanho médio dos quartos\"\n",
    ")\n",
    "plt.text(1.02, 0.2, explicacao, fontsize=10, transform=plt.gca().transAxes)\n",
    "\n",
    "plt.tight_layout()\n",
    "plt.show()"
   ]
  },
  {
   "cell_type": "code",
   "execution_count": 46,
   "metadata": {},
   "outputs": [
    {
     "name": "stdout",
     "output_type": "stream",
     "text": [
      "R²(coeficiente de determinação): 0.5281311148434176\n",
      " MAE (Erro Absoluto Médio): 1080633.6896024465\n",
      " RMSE (Raiz do Erro Quadrático Médio): 1473680.63291275\n"
     ]
    }
   ],
   "source": [
    "X_train, X_test, y_train, y_test = train_test_split(X, y, test_size=0.2, random_state=42)\n",
    "model = RandomForestRegressor(n_estimators=100, random_state=42)\n",
    "model.fit(X_train, y_train)\n",
    "y_pred = model.predict(X_test)\n",
    "\n",
    "r2 = r2_score(y_test, y_pred)\n",
    "mae = mean_absolute_error(y_test, y_pred)\n",
    "rmse = np.sqrt(mean_squared_error(y_test, y_pred))\n",
    "\n",
    "print(\"R²(coeficiente de determinação):\", r2)\n",
    "print(\" MAE (Erro Absoluto Médio):\", mae)\n",
    "print(\" RMSE (Raiz do Erro Quadrático Médio):\", rmse)\n",
    "\n"
   ]
  },
  {
   "cell_type": "code",
   "execution_count": 47,
   "metadata": {},
   "outputs": [
    {
     "data": {
      "image/png": "[encoded data removed]",
      "text/plain": [
       "<Figure size 800x600 with 1 Axes>"
      ]
     },
     "metadata": {},
     "output_type": "display_data"
    }
   ],
   "source": [
    "plt.figure(figsize=(8, 6))\n",
    "sns.scatterplot(x=y_test, y=y_pred, color='green', alpha=0.6, label='Previsões do Random Forest')\n",
    "plt.plot([y_test.min(), y_test.max()], [y_test.min(), y_test.max()], 'r--', label='Linha ideal (y = x)')\n",
    "plt.xlabel(\"Preço Real\")\n",
    "plt.ylabel(\"Preço Previsto\")\n",
    "plt.title(\"Random Forest - Preço Real vs Previsto\")\n",
    "plt.legend()\n",
    "plt.grid(True)\n",
    "plt.tight_layout()\n",
    "plt.show()"
   ]
  },
  {
   "cell_type": "code",
   "execution_count": 48,
   "metadata": {},
   "outputs": [
    {
     "name": "stdout",
     "output_type": "stream",
     "text": [
      "Fitting 5 folds for each of 24 candidates, totalling 120 fits\n",
      "\n",
      "combinação de hiperparâmetros encontrada:\n",
      "{'max_depth': 10, 'min_samples_leaf': 2, 'min_samples_split': 5, 'n_estimators': 200}\n",
      "\n",
      " Desempenho do Random Forest com hiperparâmetros otimizados:\n",
      "R²(coeficiente de determinação): 0.5551342012697686\n",
      " MAE (Erro Absoluto Médio): 1049534.4214125304\n",
      " RMSE (Raiz do Erro Quadrático Médio): 1430893.183425447\n"
     ]
    }
   ],
   "source": [
    "#3.3.2 - Ajustar hiperparâmetros usando métodos apropriados.\n",
    "param_grid = {\n",
    "    'n_estimators': [100, 200],\n",
    "    'max_depth': [None, 10, 20],\n",
    "    'min_samples_split': [2, 5],\n",
    "    'min_samples_leaf': [1, 2]\n",
    "}\n",
    "\n",
    "rf = RandomForestRegressor(random_state=42)\n",
    "\n",
    "# GridSearchCV para buscar a melhor combinação\n",
    "grid_search = GridSearchCV(estimator=rf, param_grid=param_grid,\n",
    "                           cv=5, scoring='r2', n_jobs=-1, verbose=1)\n",
    "\n",
    "# Treina nos dados\n",
    "grid_search.fit(X_train, y_train)\n",
    "\n",
    "# Melhor modelo encontrado\n",
    "melhor_rf = grid_search.best_estimator_\n",
    "\n",
    "print(\"\\ncombinação de hiperparâmetros encontrada:\")\n",
    "print(grid_search.best_params_)\n",
    "\n",
    "# Avaliar no conjunto de teste\n",
    "y_pred_rf = melhor_rf.predict(X_test)\n",
    "\n",
    "r2 = r2_score(y_test, y_pred_rf)\n",
    "mae = mean_absolute_error(y_test, y_pred_rf)\n",
    "rmse = np.sqrt(mean_squared_error(y_test, y_pred_rf))\n",
    "\n",
    "print(\"\\n Desempenho do Random Forest com hiperparâmetros otimizados:\")\n",
    "print(\"R²(coeficiente de determinação):\", r2)\n",
    "print(\" MAE (Erro Absoluto Médio):\", mae)\n",
    "print(\" RMSE (Raiz do Erro Quadrático Médio):\", rmse)"
   ]
  },
  {
   "cell_type": "code",
   "execution_count": 49,
   "metadata": {},
   "outputs": [
    {
     "data": {
      "application/vnd.plotly.v1+json": {
       "config": {
        "plotlyServerURL": "https://plot.ly"
       },
       "data": [
        {
         "hovertemplate": "Preço Real: %{x}<br>Previsto: %{y}",
         "marker": {
          "color": "green",
          "opacity": 0.6
         },
         "mode": "markers",
         "name": "Previsões RF",
         "type": "scatter",
         "x": {
          "bdata": "MJw4AJB4ZQBIkjkA+MxiACj2RQCQeGUAoMRKADCFJwDQ1hwAQL4kALCalgBIqUoAuM0zAJB4ZQBQYiUAcG1FADhCKwA4h14AqBIiAMiMbgBI6lQAwIo3ADDKWgCgrTkAUGIlANhiugD4i1gA4Gc1ADAPjgA4RlQA+N9KABiTTwDo+j8AsCdBALi2IgDYkyAAYNwsAJB4ZQBAFkAAqL4vAJSGKwC45EQAUJBHAFhNSwDw+E0A2O9kAMChSAAYk08AQBZAAFiSfgDAijcAUGIlAIC5KgBouJMAIAsgAKiBTgCA/l0AKN80ABjnQQBAFkAAQBZAAPDhPACQeGUAYMUbAACKZgA4QisAiHYuAMCKNwCIjT8AMJw4AIgmZQDQG1AAuOREAEipSgBwm2cAgNA7AFC+aQAYvUgA4Gc1ALBVYwCIY0YALE57ALBVYwBQeTYAkOu6AMD9jACgligAGNiCANDtLQCIu2EAOPJhALAQMACQMzIAAEUzAOCVVwCYHlgA2NhTALCDhQC45EQAaIZIAAC4iAAgUFMAAKF3AKCWKABI6lQAGMFxAGAhYAAQqCkA0NYcAA==",
          "dtype": "i4"
         },
         "xaxis": "x",
         "y": {
          "bdata": "AAAAgIRaSUEAAAAAhUFRQQAAAIAjtE5BAAAAAKBnVkEAAACAWS9PQQAAAID1c1tBAAAAwCA4TkGsqqoqH3xIQQAAAECQ4UZBVlVVteqfSEEAAAAA0FFVQQAAAIBy6FBBAAAAoCm6UkEAAAAATdtYQQAAAABGEEhBAAAAQPiHUkEAAACA0DdNQQAAAIDc6VhBAAAAAIORU0EAAADA0TBfQQAAAMAftFFBAAAAAB/0SUEAAACABzpWQayqqioffEhBAAAAAAsqQ0EAAABgVyRgQQAAAIAf3VRBAAAAAJLtS0EAAABAllBgQQAAAACYCFRBAAAAADdtT0EAAAAAOzBSQQAAAADSXVFBqqqq6nN8TEEAAAAAA1tQQQAAAABJWURBAAAAAL4kTUEAAAAAyOVQQQAAAIAnuVJBVlVVVTfDTEEAAABAdIZQQQAAAICN3FBBAAAAALJ5SkEAAADAT0RVQQAAAIAJD1dBAAAAAHQrT0EAAABAYEtZQQAAAEBb21BBAAAAANGbUEEAAACAoN5UQQAAAADdOVFBrKqqqmHiR0EAAAAAOwBQQQAAAMBRNV1BAAAAgMnlSEEAAACAJyRWQQAAAABGA1ZBAAAAAGpNUUGqqqoqtc1JQQAAAEByMlFBAAAAAOQrSEEAAABABTJaQQAAAIA3o1NBVFVV1Q88RkEAAACAf21VQQAAAABLV0dBAAAAgDH+TUEAAACgNH1KQQAAAABzvVBBqqqqKrXNSUEAAAAA+3VWQQAAAICTOlZBAAAAACPZTEEAAADAeZdQQQAAAIDx2E5BAAAAgEblV0EAAABAvKdaQQAAAIA8FU9BAAAAQGMYR0EAAAAAflNQQQAAAICJHFFBAAAAQCq4XkEAAAAAQkNWQQAAAMCVQ0ZBAAAAQEChYEEAAADAfxRQQQAAAAAFJVJBAAAAgP/rW0Gqqqoq4UNLQQAAAAAGxlVBAAAAALHAVUEAAAAARhBIQQAAAEAuElFBAAAAAK4vTUEAAACAZexZQQAAAIA/HFpBAAAAAOOrUUEAAAAAAexMQQAAAICv0UxBAAAAgEz3U0EAAADAqh1dQQAAAEBpUlhBAAAAgFtpWkEAAACACcJNQQAAAADY3FNBAAAAgP8pUEEAAADA7QFUQQAAAADYlFBBAAAAAExJSkE=",
          "dtype": "f8"
         },
         "yaxis": "y"
        },
        {
         "line": {
          "color": "red",
          "dash": "dash"
         },
         "mode": "lines",
         "name": "Linha Ideal",
         "type": "scatter",
         "x": [
          1820000,
          12250000
         ],
         "xaxis": "x",
         "y": [
          1820000,
          12250000
         ],
         "yaxis": "y"
        },
        {
         "hovertemplate": "Preço Real: %{x}<br>Previsto: %{y}",
         "marker": {
          "color": "blue",
          "opacity": 0.6
         },
         "mode": "markers",
         "name": "Previsões RF Otimizado",
         "type": "scatter",
         "x": {
          "bdata": "MJw4AJB4ZQBIkjkA+MxiACj2RQCQeGUAoMRKADCFJwDQ1hwAQL4kALCalgBIqUoAuM0zAJB4ZQBQYiUAcG1FADhCKwA4h14AqBIiAMiMbgBI6lQAwIo3ADDKWgCgrTkAUGIlANhiugD4i1gA4Gc1ADAPjgA4RlQA+N9KABiTTwDo+j8AsCdBALi2IgDYkyAAYNwsAJB4ZQBAFkAAqL4vAJSGKwC45EQAUJBHAFhNSwDw+E0A2O9kAMChSAAYk08AQBZAAFiSfgDAijcAUGIlAIC5KgBouJMAIAsgAKiBTgCA/l0AKN80ABjnQQBAFkAAQBZAAPDhPACQeGUAYMUbAACKZgA4QisAiHYuAMCKNwCIjT8AMJw4AIgmZQDQG1AAuOREAEipSgBwm2cAgNA7AFC+aQAYvUgA4Gc1ALBVYwCIY0YALE57ALBVYwBQeTYAkOu6AMD9jACgligAGNiCANDtLQCIu2EAOPJhALAQMACQMzIAAEUzAOCVVwCYHlgA2NhTALCDhQC45EQAaIZIAAC4iAAgUFMAAKF3AKCWKABI6lQAGMFxAGAhYAAQqCkA0NYcAA==",
          "dtype": "i4"
         },
         "xaxis": "x2",
         "y": {
          "bdata": "Knwa793ZSUHxeQqn/rhRQYl5O9M2cU5BnybEnEWWVkEpKcd7VPhOQUbM27mSkVpBN69imCRuTkEmYqNTrI1JQVI7FsDVT0hBPGn9xg6sR0G67TVRarRXQfqY/NBgWlFB74e7+PE4U0HJJptsFMNZQdvJ9/uWI0lBzumzX2PBUkHO9eIa/SxMQbvoonswMVlBrKqqymVmU0FUVVWRyvReQeM4jkVVtFFB6T4jrEYdS0FJ0W5fqTJWQSZio1OsjUlBOO3njC7hREFmSMxvZ4pgQfjlFiV3TlVByENXQRseTEEcMW9HLsRfQSMxb1d0k1RBOuol0zR0T0GMAEk+paBSQazmS0MIhlFBk6bjPRK+TUFsWqJy+5pOQabmfvyWlkRBW/cHziOATEH8v2ObUzlQQQpbHb2aDlJBjDkapIpPTUE9Kf7yG+RRQbPMIB8WYFFBtNb/OkNJTEEEd9cr6uVUQeE4jrNaoFZBxqgx0BDuUEFmVaZsvaBZQdE9qvuZZ1BBzw43nrYAUEF4O0Nayb1WQeMNxBGsdVFBGOVJYWWsRkFqIRXwZgZPQTeO49jcnVtBH/Bb8A96SUHAemPmN+NVQVt00QViKFZBGe5VkPA4UUHK52QoOydKQZIoTTXXuVFBT5atLlyxS0Hp1yjfX0RaQQRGYDzbwlNBKB/EK1S3RkHzKwU6XLBVQZQoq+9HYEdB8TaDGox6TEGD9/qIystKQdpNVCsa/FBByudkKDsnSkFyHMfFZdpVQd/TI5aSglZBb20S9VGjS0EjofuByrtQQUGZJUrogFBBwVczlEOfV0GsXyk8QL5bQQ8dS10G905BqgIxB7FLSEGjVaYAnGVQQXrVJnASAFFBV1VVkW6NXUGtqqqiMfxVQY3J+YhhuUdBED742AgmYEHcRo60CAJQQY6MjMhTp1FBWgrUFq9GXUFG7jY/MOZLQbydIfmjlldB3B6lsDc1VEHbyff7liNJQWshR0T6DVBBoVnT/B6NTUHIJpuk6D5aQdavFHiNzFpBV5H2DWv8UUEDJMsHRbtOQTFJ517yOE1BjujLixi7U0E9Q2KiXs9dQaqqqmoqIlhBH3zw8bQ0W0ElAbK89CNOQRvHcSRjglNB1AiSPu5eUEEYgRFseltTQU5Zr5h4DVBBZegrYAUiS0E=",
          "dtype": "f8"
         },
         "yaxis": "y2"
        },
        {
         "line": {
          "color": "red",
          "dash": "dash"
         },
         "mode": "lines",
         "name": "Linha Ideal",
         "type": "scatter",
         "x": [
          1820000,
          12250000
         ],
         "xaxis": "x2",
         "y": [
          1820000,
          12250000
         ],
         "yaxis": "y2"
        }
       ],
       "layout": {
        "annotations": [
         {
          "font": {
           "size": 16
          },
          "showarrow": false,
          "text": "Random Forest - Antes da Otimização",
          "x": 0.225,
          "xanchor": "center",
          "xref": "paper",
          "y": 1,
          "yanchor": "bottom",
          "yref": "paper"
         },
         {
          "font": {
           "size": 16
          },
          "showarrow": false,
          "text": "Random Forest - Após Otimização",
          "x": 0.775,
          "xanchor": "center",
          "xref": "paper",
          "y": 1,
          "yanchor": "bottom",
          "yref": "paper"
         }
        ],
        "height": 600,
        "showlegend": true,
        "template": {
         "data": {
          "bar": [
           {
            "error_x": {
             "color": "#2a3f5f"
            },
            "error_y": {
             "color": "#2a3f5f"
            },
            "marker": {
             "line": {
              "color": "#E5ECF6",
              "width": 0.5
             },
             "pattern": {
              "fillmode": "overlay",
              "size": 10,
              "solidity": 0.2
             }
            },
            "type": "bar"
           }
          ],
          "barpolar": [
           {
            "marker": {
             "line": {
              "color": "#E5ECF6",
              "width": 0.5
             },
             "pattern": {
              "fillmode": "overlay",
              "size": 10,
              "solidity": 0.2
             }
            },
            "type": "barpolar"
           }
          ],
          "carpet": [
           {
            "aaxis": {
             "endlinecolor": "#2a3f5f",
             "gridcolor": "white",
             "linecolor": "white",
             "minorgridcolor": "white",
             "startlinecolor": "#2a3f5f"
            },
            "baxis": {
             "endlinecolor": "#2a3f5f",
             "gridcolor": "white",
             "linecolor": "white",
             "minorgridcolor": "white",
             "startlinecolor": "#2a3f5f"
            },
            "type": "carpet"
           }
          ],
          "choropleth": [
           {
            "colorbar": {
             "outlinewidth": 0,
             "ticks": ""
            },
            "type": "choropleth"
           }
          ],
          "contour": [
           {
            "colorbar": {
             "outlinewidth": 0,
             "ticks": ""
            },
            "colorscale": [
             [
              0,
              "#0d0887"
             ],
             [
              0.1111111111111111,
              "#46039f"
             ],
             [
              0.2222222222222222,
              "#7201a8"
             ],
             [
              0.3333333333333333,
              "#9c179e"
             ],
             [
              0.4444444444444444,
              "#bd3786"
             ],
             [
              0.5555555555555556,
              "#d8576b"
             ],
             [
              0.6666666666666666,
              "#ed7953"
             ],
             [
              0.7777777777777778,
              "#fb9f3a"
             ],
             [
              0.8888888888888888,
              "#fdca26"
             ],
             [
              1,
              "#f0f921"
             ]
            ],
            "type": "contour"
           }
          ],
          "contourcarpet": [
           {
            "colorbar": {
             "outlinewidth": 0,
             "ticks": ""
            },
            "type": "contourcarpet"
           }
          ],
          "heatmap": [
           {
            "colorbar": {
             "outlinewidth": 0,
             "ticks": ""
            },
            "colorscale": [
             [
              0,
              "#0d0887"
             ],
             [
              0.1111111111111111,
              "#46039f"
             ],
             [
              0.2222222222222222,
              "#7201a8"
             ],
             [
              0.3333333333333333,
              "#9c179e"
             ],
             [
              0.4444444444444444,
              "#bd3786"
             ],
             [
              0.5555555555555556,
              "#d8576b"
             ],
             [
              0.6666666666666666,
              "#ed7953"
             ],
             [
              0.7777777777777778,
              "#fb9f3a"
             ],
             [
              0.8888888888888888,
              "#fdca26"
             ],
             [
              1,
              "#f0f921"
             ]
            ],
            "type": "heatmap"
           }
          ],
          "histogram": [
           {
            "marker": {
             "pattern": {
              "fillmode": "overlay",
              "size": 10,
              "solidity": 0.2
             }
            },
            "type": "histogram"
           }
          ],
          "histogram2d": [
           {
            "colorbar": {
             "outlinewidth": 0,
             "ticks": ""
            },
            "colorscale": [
             [
              0,
              "#0d0887"
             ],
             [
              0.1111111111111111,
              "#46039f"
             ],
             [
              0.2222222222222222,
              "#7201a8"
             ],
             [
              0.3333333333333333,
              "#9c179e"
             ],
             [
              0.4444444444444444,
              "#bd3786"
             ],
             [
              0.5555555555555556,
              "#d8576b"
             ],
             [
              0.6666666666666666,
              "#ed7953"
             ],
             [
              0.7777777777777778,
              "#fb9f3a"
             ],
             [
              0.8888888888888888,
              "#fdca26"
             ],
             [
              1,
              "#f0f921"
             ]
            ],
            "type": "histogram2d"
           }
          ],
          "histogram2dcontour": [
           {
            "colorbar": {
             "outlinewidth": 0,
             "ticks": ""
            },
            "colorscale": [
             [
              0,
              "#0d0887"
             ],
             [
              0.1111111111111111,
              "#46039f"
             ],
             [
              0.2222222222222222,
              "#7201a8"
             ],
             [
              0.3333333333333333,
              "#9c179e"
             ],
             [
              0.4444444444444444,
              "#bd3786"
             ],
             [
              0.5555555555555556,
              "#d8576b"
             ],
             [
              0.6666666666666666,
              "#ed7953"
             ],
             [
              0.7777777777777778,
              "#fb9f3a"
             ],
             [
              0.8888888888888888,
              "#fdca26"
             ],
             [
              1,
              "#f0f921"
             ]
            ],
            "type": "histogram2dcontour"
           }
          ],
          "mesh3d": [
           {
            "colorbar": {
             "outlinewidth": 0,
             "ticks": ""
            },
            "type": "mesh3d"
           }
          ],
          "parcoords": [
           {
            "line": {
             "colorbar": {
              "outlinewidth": 0,
              "ticks": ""
             }
            },
            "type": "parcoords"
           }
          ],
          "pie": [
           {
            "automargin": true,
            "type": "pie"
           }
          ],
          "scatter": [
           {
            "fillpattern": {
             "fillmode": "overlay",
             "size": 10,
             "solidity": 0.2
            },
            "type": "scatter"
           }
          ],
          "scatter3d": [
           {
            "line": {
             "colorbar": {
              "outlinewidth": 0,
              "ticks": ""
             }
            },
            "marker": {
             "colorbar": {
              "outlinewidth": 0,
              "ticks": ""
             }
            },
            "type": "scatter3d"
           }
          ],
          "scattercarpet": [
           {
            "marker": {
             "colorbar": {
              "outlinewidth": 0,
              "ticks": ""
             }
            },
            "type": "scattercarpet"
           }
          ],
          "scattergeo": [
           {
            "marker": {
             "colorbar": {
              "outlinewidth": 0,
              "ticks": ""
             }
            },
            "type": "scattergeo"
           }
          ],
          "scattergl": [
           {
            "marker": {
             "colorbar": {
              "outlinewidth": 0,
              "ticks": ""
             }
            },
            "type": "scattergl"
           }
          ],
          "scattermap": [
           {
            "marker": {
             "colorbar": {
              "outlinewidth": 0,
              "ticks": ""
             }
            },
            "type": "scattermap"
           }
          ],
          "scattermapbox": [
           {
            "marker": {
             "colorbar": {
              "outlinewidth": 0,
              "ticks": ""
             }
            },
            "type": "scattermapbox"
           }
          ],
          "scatterpolar": [
           {
            "marker": {
             "colorbar": {
              "outlinewidth": 0,
              "ticks": ""
             }
            },
            "type": "scatterpolar"
           }
          ],
          "scatterpolargl": [
           {
            "marker": {
             "colorbar": {
              "outlinewidth": 0,
              "ticks": ""
             }
            },
            "type": "scatterpolargl"
           }
          ],
          "scatterternary": [
           {
            "marker": {
             "colorbar": {
              "outlinewidth": 0,
              "ticks": ""
             }
            },
            "type": "scatterternary"
           }
          ],
          "surface": [
           {
            "colorbar": {
             "outlinewidth": 0,
             "ticks": ""
            },
            "colorscale": [
             [
              0,
              "#0d0887"
             ],
             [
              0.1111111111111111,
              "#46039f"
             ],
             [
              0.2222222222222222,
              "#7201a8"
             ],
             [
              0.3333333333333333,
              "#9c179e"
             ],
             [
              0.4444444444444444,
              "#bd3786"
             ],
             [
              0.5555555555555556,
              "#d8576b"
             ],
             [
              0.6666666666666666,
              "#ed7953"
             ],
             [
              0.7777777777777778,
              "#fb9f3a"
             ],
             [
              0.8888888888888888,
              "#fdca26"
             ],
             [
              1,
              "#f0f921"
             ]
            ],
            "type": "surface"
           }
          ],
          "table": [
           {
            "cells": {
             "fill": {
              "color": "#EBF0F8"
             },
             "line": {
              "color": "white"
             }
            },
            "header": {
             "fill": {
              "color": "#C8D4E3"
             },
             "line": {
              "color": "white"
             }
            },
            "type": "table"
           }
          ]
         },
         "layout": {
          "annotationdefaults": {
           "arrowcolor": "#2a3f5f",
           "arrowhead": 0,
           "arrowwidth": 1
          },
          "autotypenumbers": "strict",
          "coloraxis": {
           "colorbar": {
            "outlinewidth": 0,
            "ticks": ""
           }
          },
          "colorscale": {
           "diverging": [
            [
             0,
             "#8e0152"
            ],
            [
             0.1,
             "#c51b7d"
            ],
            [
             0.2,
             "#de77ae"
            ],
            [
             0.3,
             "#f1b6da"
            ],
            [
             0.4,
             "#fde0ef"
            ],
            [
             0.5,
             "#f7f7f7"
            ],
            [
             0.6,
             "#e6f5d0"
            ],
            [
             0.7,
             "#b8e186"
            ],
            [
             0.8,
             "#7fbc41"
            ],
            [
             0.9,
             "#4d9221"
            ],
            [
             1,
             "#276419"
            ]
           ],
           "sequential": [
            [
             0,
             "#0d0887"
            ],
            [
             0.1111111111111111,
             "#46039f"
            ],
            [
             0.2222222222222222,
             "#7201a8"
            ],
            [
             0.3333333333333333,
             "#9c179e"
            ],
            [
             0.4444444444444444,
             "#bd3786"
            ],
            [
             0.5555555555555556,
             "#d8576b"
            ],
            [
             0.6666666666666666,
             "#ed7953"
            ],
            [
             0.7777777777777778,
             "#fb9f3a"
            ],
            [
             0.8888888888888888,
             "#fdca26"
            ],
            [
             1,
             "#f0f921"
            ]
           ],
           "sequentialminus": [
            [
             0,
             "#0d0887"
            ],
            [
             0.1111111111111111,
             "#46039f"
            ],
            [
             0.2222222222222222,
             "#7201a8"
            ],
            [
             0.3333333333333333,
             "#9c179e"
            ],
            [
             0.4444444444444444,
             "#bd3786"
            ],
            [
             0.5555555555555556,
             "#d8576b"
            ],
            [
             0.6666666666666666,
             "#ed7953"
            ],
            [
             0.7777777777777778,
             "#fb9f3a"
            ],
            [
             0.8888888888888888,
             "#fdca26"
            ],
            [
             1,
             "#f0f921"
            ]
           ]
          },
          "colorway": [
           "#636efa",
           "#EF553B",
           "#00cc96",
           "#ab63fa",
           "#FFA15A",
           "#19d3f3",
           "#FF6692",
           "#B6E880",
           "#FF97FF",
           "#FECB52"
          ],
          "font": {
           "color": "#2a3f5f"
          },
          "geo": {
           "bgcolor": "white",
           "lakecolor": "white",
           "landcolor": "#E5ECF6",
           "showlakes": true,
           "showland": true,
           "subunitcolor": "white"
          },
          "hoverlabel": {
           "align": "left"
          },
          "hovermode": "closest",
          "mapbox": {
           "style": "light"
          },
          "paper_bgcolor": "white",
          "plot_bgcolor": "#E5ECF6",
          "polar": {
           "angularaxis": {
            "gridcolor": "white",
            "linecolor": "white",
            "ticks": ""
           },
           "bgcolor": "#E5ECF6",
           "radialaxis": {
            "gridcolor": "white",
            "linecolor": "white",
            "ticks": ""
           }
          },
          "scene": {
           "xaxis": {
            "backgroundcolor": "#E5ECF6",
            "gridcolor": "white",
            "gridwidth": 2,
            "linecolor": "white",
            "showbackground": true,
            "ticks": "",
            "zerolinecolor": "white"
           },
           "yaxis": {
            "backgroundcolor": "#E5ECF6",
            "gridcolor": "white",
            "gridwidth": 2,
            "linecolor": "white",
            "showbackground": true,
            "ticks": "",
            "zerolinecolor": "white"
           },
           "zaxis": {
            "backgroundcolor": "#E5ECF6",
            "gridcolor": "white",
            "gridwidth": 2,
            "linecolor": "white",
            "showbackground": true,
            "ticks": "",
            "zerolinecolor": "white"
           }
          },
          "shapedefaults": {
           "line": {
            "color": "#2a3f5f"
           }
          },
          "ternary": {
           "aaxis": {
            "gridcolor": "white",
            "linecolor": "white",
            "ticks": ""
           },
           "baxis": {
            "gridcolor": "white",
            "linecolor": "white",
            "ticks": ""
           },
           "bgcolor": "#E5ECF6",
           "caxis": {
            "gridcolor": "white",
            "linecolor": "white",
            "ticks": ""
           }
          },
          "title": {
           "x": 0.05
          },
          "xaxis": {
           "automargin": true,
           "gridcolor": "white",
           "linecolor": "white",
           "ticks": "",
           "title": {
            "standoff": 15
           },
           "zerolinecolor": "white",
           "zerolinewidth": 2
          },
          "yaxis": {
           "automargin": true,
           "gridcolor": "white",
           "linecolor": "white",
           "ticks": "",
           "title": {
            "standoff": 15
           },
           "zerolinecolor": "white",
           "zerolinewidth": 2
          }
         }
        },
        "title": {
         "text": "Previsão de Preços - Random Forest"
        },
        "width": 1400,
        "xaxis": {
         "anchor": "y",
         "domain": [
          0,
          0.45
         ]
        },
        "xaxis2": {
         "anchor": "y2",
         "domain": [
          0.55,
          1
         ]
        },
        "yaxis": {
         "anchor": "x",
         "domain": [
          0,
          1
         ]
        },
        "yaxis2": {
         "anchor": "x2",
         "domain": [
          0,
          1
         ]
        }
       }
      }
     },
     "metadata": {},
     "output_type": "display_data"
    }
   ],
   "source": [
    "\n",
    "\n",
    "fig = make_subplots(rows=1, cols=2, subplot_titles=[\n",
    "    \"Random Forest - Antes da Otimização\",\n",
    "    \"Random Forest - Após Otimização\"\n",
    "])\n",
    "\n",
    "fig.add_trace(\n",
    "    go.Scatter(\n",
    "        x=y_test, y=y_pred,\n",
    "        mode='markers',\n",
    "        name='Previsões RF',\n",
    "        marker=dict(color='green', opacity=0.6),\n",
    "        hovertemplate='Preço Real: %{x}<br>Previsto: %{y}'\n",
    "    ),\n",
    "    row=1, col=1\n",
    ")\n",
    "\n",
    "fig.add_trace(\n",
    "    go.Scatter(\n",
    "        x=[y_test.min(), y_test.max()],\n",
    "        y=[y_test.min(), y_test.max()],\n",
    "        mode='lines',\n",
    "        name='Linha Ideal',\n",
    "        line=dict(color='red', dash='dash')\n",
    "    ),\n",
    "    row=1, col=1\n",
    ")\n",
    "\n",
    "fig.add_trace(\n",
    "    go.Scatter(\n",
    "        x=y_test, y=y_pred_rf,\n",
    "        mode='markers',\n",
    "        name='Previsões RF Otimizado',\n",
    "        marker=dict(color='blue', opacity=0.6),\n",
    "        hovertemplate='Preço Real: %{x}<br>Previsto: %{y}'\n",
    "    ),\n",
    "    row=1, col=2\n",
    ")\n",
    "\n",
    "fig.add_trace(\n",
    "    go.Scatter(\n",
    "        x=[y_test.min(), y_test.max()],\n",
    "        y=[y_test.min(), y_test.max()],\n",
    "        mode='lines',\n",
    "        name='Linha Ideal',\n",
    "        line=dict(color='red', dash='dash')\n",
    "    ),\n",
    "    row=1, col=2\n",
    ")\n",
    "\n",
    "fig.update_layout(\n",
    "    title=\"Previsão de Preços - Random Forest\",\n",
    "    height=600,\n",
    "    width=1400,\n",
    "    showlegend=True\n",
    ")\n",
    "\n",
    "fig.show()\n"
   ]
  },
  {
   "cell_type": "code",
   "execution_count": 50,
   "metadata": {},
   "outputs": [
    {
     "name": "stdout",
     "output_type": "stream",
     "text": [
      "Tipo: <class 'sklearn.ensemble._forest.RandomForestRegressor'>\n",
      "Features: ['area' 'area_per_bathroom' 'bathrooms' 'area_per_bedroom'\n",
      " 'airconditioning' 'parking' 'stories' 'prefarea']\n"
     ]
    },
    {
     "data": {
      "text/plain": [
       "['../models/modelo_rf.pkl']"
      ]
     },
     "execution_count": 50,
     "metadata": {},
     "output_type": "execute_result"
    }
   ],
   "source": [
    "print(\"Tipo:\", type(melhor_rf))\n",
    "print(\"Features:\", melhor_rf.feature_names_in_)\n",
    "\n",
    "joblib.dump({\n",
    "    'modelo': melhor_rf,\n",
    "    'scaler': scaler\n",
    "}, '../models/modelo_rf.pkl')"
   ]
  },
  {
   "cell_type": "code",
   "execution_count": 51,
   "metadata": {},
   "outputs": [
    {
     "name": "stdout",
     "output_type": "stream",
     "text": [
      " R² (coeficiente de determinação): 0.630541599653417\n",
      " MAE (Erro Absoluto Médio): 942516.7262436023\n",
      " RMSE (Raiz do Erro Quadrático Médio): 1303993.6552559067\n",
      "\n",
      "  Coeficientes das variáveis (impacto no preço):\n",
      "airconditioning      9.593998e+05\n",
      "prefarea             6.674899e+05\n",
      "bathrooms            6.006794e+05\n",
      "stories              3.926725e+05\n",
      "parking              2.451036e+05\n",
      "area                 4.870991e+02\n",
      "area_per_bedroom    -1.472204e+06\n",
      "area_per_bathroom   -1.720821e+06\n",
      "dtype: float64\n"
     ]
    }
   ],
   "source": [
    "# 3.2.3.1 - Complementar análise de features com Regrerssão linear multipla\n",
    "features_importantes = [\n",
    "    'area', \n",
    "    'area_per_bathroom', \n",
    "    'bathrooms', \n",
    "    'area_per_bedroom', \n",
    "    'airconditioning',\n",
    "    'parking',\n",
    "    'stories',\n",
    "    'prefarea'\n",
    "]\n",
    "X = base_casas[features_importantes]\n",
    "y = base_casas['price']\n",
    "\n",
    "# Dividir em treino e teste\n",
    "X_train, X_test, y_train, y_test = train_test_split(X, y, test_size=0.2, random_state=42)\n",
    "\n",
    "# Criar e treinar o modelo\n",
    "modelo_lr = LinearRegression()\n",
    "modelo_lr.fit(X_train, y_train)\n",
    "\n",
    "# Fazer previsões\n",
    "y_pred = modelo_lr.predict(X_test)\n",
    "\n",
    "# Avaliar o modelo\n",
    "print(\" R² (coeficiente de determinação):\", r2_score(y_test, y_pred))\n",
    "print(\" MAE (Erro Absoluto Médio):\", mean_absolute_error(y_test, y_pred))\n",
    "print(\" RMSE (Raiz do Erro Quadrático Médio):\", np.sqrt(mean_squared_error(y_test, y_pred)))\n",
    "\n",
    "# Coeficientes das variáveis\n",
    "coeficientes = pd.Series(modelo_lr.coef_, index=X.columns)\n",
    "print(\"\\n  Coeficientes das variáveis (impacto no preço):\")\n",
    "print(coeficientes.sort_values(ascending=False))\n",
    "\n",
    "#Variável              | Interpretação\n",
    "#----------------------|---------------------------------------------------------------\n",
    "#airconditioning       | Casas com ar-condicionado valem mais\n",
    "#prefarea              | Localização preferencial tem grande peso\n",
    "#bathrooms             | Mais banheiros = mais conforto\n",
    "#stories               | Casas de mais andares valem mais\n",
    "#parking               | Vaga de garagem influencia no preço\n",
    "#area                  | A cada m², o preço aumenta em média R$ 487\n",
    "#area_per_bathroom     | Pode indicar casas com poucos banheiros para o tamanho\n",
    "#area_per_bedroom      | Pode indicar quartos pequenos ou mal distribuídos\n"
   ]
  },
  {
   "cell_type": "code",
   "execution_count": 52,
   "metadata": {},
   "outputs": [
    {
     "data": {
      "image/png": "[encoded data removed]",
      "text/plain": [
       "<Figure size 800x600 with 1 Axes>"
      ]
     },
     "metadata": {},
     "output_type": "display_data"
    }
   ],
   "source": [
    "plt.figure(figsize=(8, 6))\n",
    "\n",
    "#previsões\n",
    "sns.scatterplot(x=y_test, y=y_pred, color='royalblue', alpha=0.7, label='Previsões do modelo')\n",
    "\n",
    "#linha ideal\n",
    "plt.plot([y_test.min(), y_test.max()],\n",
    "         [y_test.min(), y_test.max()],\n",
    "         color='red', linestyle='--', label='Linha ideal (y = x)')\n",
    "\n",
    "plt.xlabel(\"Valor Real (Preço)\")\n",
    "plt.ylabel(\"Valor Previsto (Preço)\")\n",
    "plt.title(\"Regressão Linear Múltipla - Real vs Previsto\")\n",
    "plt.legend()\n",
    "plt.grid(True)\n",
    "plt.tight_layout()\n",
    "plt.show()\n",
    "\n"
   ]
  },
  {
   "cell_type": "code",
   "execution_count": 53,
   "metadata": {},
   "outputs": [
    {
     "data": {
      "image/png": "[encoded data removed]",
      "text/plain": [
       "<Figure size 800x500 with 1 Axes>"
      ]
     },
     "metadata": {},
     "output_type": "display_data"
    }
   ],
   "source": [
    "# Calcular resíduos\n",
    "residuos = y_test - y_pred\n",
    "\n",
    "# Gráfico de resíduos\n",
    "plt.figure(figsize=(8, 5))\n",
    "sns.scatterplot(x=y_pred, y=residuos, alpha=0.7, color='orange')\n",
    "plt.axhline(0, color='red', linestyle='--', label='Erro zero (linha ideal)')\n",
    "plt.xlabel(\"Valor Previsto\")\n",
    "plt.ylabel(\"Resíduo (Erro)\")\n",
    "plt.title(\"Gráfico de Resíduos - Regressão Linear Múltipla\")\n",
    "plt.legend()\n",
    "plt.grid(True)\n",
    "plt.tight_layout()\n",
    "plt.show()\n"
   ]
  },
  {
   "cell_type": "code",
   "execution_count": 54,
   "metadata": {},
   "outputs": [
    {
     "name": "stdout",
     "output_type": "stream",
     "text": [
      "Melhor alpha encontrado: {'alpha': 1}\n",
      "\n",
      " Avaliação Ridge após ajuste de hiperparâmetros:\n",
      "R²(coeficiente de determinação): 0.6299514930484333\n",
      " MAE (Erro Absoluto Médio): 941226.4947366359\n",
      " RMSE (Raiz do Erro Quadrático Médio): 1305034.6225878147\n"
     ]
    }
   ],
   "source": [
    "#3.3.2 - Ajustar hiperparâmetros usando métodos apropriados (Ridge)\n",
    "param_grid = {'alpha': [0.01, 0.1, 1, 10, 100]}\n",
    "modelo_ridge = Ridge()\n",
    "\n",
    "grid_ridge = GridSearchCV(modelo_ridge, param_grid, cv=5, scoring='r2')\n",
    "grid_ridge.fit(X_train, y_train)\n",
    "\n",
    "melhor_ridge = grid_ridge.best_estimator_\n",
    "print(\"Melhor alpha encontrado:\", grid_ridge.best_params_)\n",
    "\n",
    "y_pred_ridge = melhor_ridge.predict(X_test)\n",
    "print(\"\\n Avaliação Ridge após ajuste de hiperparâmetros:\")\n",
    "print(\"R²(coeficiente de determinação):\", r2_score(y_test, y_pred_ridge))\n",
    "print(\" MAE (Erro Absoluto Médio):\", mean_absolute_error(y_test, y_pred_ridge))\n",
    "print(\" RMSE (Raiz do Erro Quadrático Médio):\", np.sqrt(mean_squared_error(y_test, y_pred_ridge)))\n",
    "\n"
   ]
  },
  {
   "cell_type": "code",
   "execution_count": 55,
   "metadata": {},
   "outputs": [
    {
     "data": {
      "application/vnd.plotly.v1+json": {
       "config": {
        "plotlyServerURL": "https://plot.ly"
       },
       "data": [
        {
         "hovertemplate": "Preço Real: %{x}<br>Preço Previsto: %{y}",
         "marker": {
          "color": "royalblue",
          "opacity": 0.7
         },
         "mode": "markers",
         "name": "Linear Regression",
         "type": "scatter",
         "x": {
          "bdata": "MJw4AJB4ZQBIkjkA+MxiACj2RQCQeGUAoMRKADCFJwDQ1hwAQL4kALCalgBIqUoAuM0zAJB4ZQBQYiUAcG1FADhCKwA4h14AqBIiAMiMbgBI6lQAwIo3ADDKWgCgrTkAUGIlANhiugD4i1gA4Gc1ADAPjgA4RlQA+N9KABiTTwDo+j8AsCdBALi2IgDYkyAAYNwsAJB4ZQBAFkAAqL4vAJSGKwC45EQAUJBHAFhNSwDw+E0A2O9kAMChSAAYk08AQBZAAFiSfgDAijcAUGIlAIC5KgBouJMAIAsgAKiBTgCA/l0AKN80ABjnQQBAFkAAQBZAAPDhPACQeGUAYMUbAACKZgA4QisAiHYuAMCKNwCIjT8AMJw4AIgmZQDQG1AAuOREAEipSgBwm2cAgNA7AFC+aQAYvUgA4Gc1ALBVYwCIY0YALE57ALBVYwBQeTYAkOu6AMD9jACgligAGNiCANDtLQCIu2EAOPJhALAQMACQMzIAAEUzAOCVVwCYHlgA2NhTALCDhQC45EQAaIZIAAC4iAAgUFMAAKF3AKCWKABI6lQAGMFxAGAhYAAQqCkA0NYcAA==",
          "dtype": "i4"
         },
         "xaxis": "x",
         "y": {
          "bdata": "7PpVaGW8RkHAQFXwENhRQSPV36RyrVJBWWKTTnHnV0GYhXiFHiZRQb9J0Bpp7VhBBhPGi3h3UEEbhmXIjsNGQVgglX592UZBkIaHSjnTRkEg0Nsi97daQb0HGjWoWVFBAL0K+hY7U0H9ACGffh5cQTlgBDDMlkZBs1RsX/vFWEEoZsryOhlMQeNJftMTYVlBfze0EjXfU0HAXsELczphQRNNRAsQplZB/LbZsLMUTUGf1TQ8IoFXQRuGZciOw0ZBtGQLCLeVR0HimcjaEEhfQRVCqiT50lNBZX8MwRbASkHmYqDbFx1cQV527akF2lFBEBdr0WzxTUHBFMa4KjRWQdRmTE9mflNBxw2c2dSyUUFejvT2CJpLQdKiHjb/tkVBtlDqt2iES0FqxDe1ep1NQfrrI5F8NlJB4dA+UzS7S0GOFFGgVPNQQdR7S7KsVlJBggLhHhalTkEIFpIv0nxTQR+GNFkSsVRBQzU3xFjIVUHrfGeBB85UQeaduAbN/1FBAqSdAKHFT0G4dHBLBtVZQUme/vvAOVNBa4z0qCMBSEH2b7KU2ZVIQQdKsXk66lhBXvM8QlFiSEFBDhGysuRTQQN/kZCMLVhBBVTptOtdUEH+Mwnq64RHQYKhqVop0k5BeuLpYtCNT0HIlmpnvfdUQbIg4YfbJlZBmCb42W50SUEJrcWaKRRYQSKprRaU9EZB3tEn+RMdR0FnJBax4QNQQfVaMQ4vkU9BlvkQmoCIR0F689LDwFxTQf+x6KPIflZBpIM67e1nTEG/05ZE6jlWQV2LvVfVZFdBWSAivVsLVkGinS3TEhVcQXyz4nxIslBB8iN5Ci60SEGptcrVSulOQXaVBmiAL1JBp4CkHBOWXUEzfCfmn5xUQQ5ijDh21UZBjOPWuiPAY0Ep2HgE+6xSQXx/Tv/aUlNBJJjtkf7pXEEM6SP6d9hNQeG938FO4FhBnFCWklCNUkE5YAQwzJZGQREckA7AzktBexOvz6snSEFJvofRyCpaQV2+DzvhbFpBJriKHjZIUkF4Kz8cjQdQQYglkCFhtk5BkcRAIl1UVEFCgSA0yoVfQVxvs5kCsFdBW0KBdbJvXUGfRL8b1qpIQUcsRrBbH1ZBAte7bJOCUkHdCjECOVhYQb/vKi5+iE1BxmncBg7zRkE=",
          "dtype": "f8"
         },
         "yaxis": "y"
        },
        {
         "line": {
          "color": "red",
          "dash": "dash"
         },
         "mode": "lines",
         "name": "Linha ideal",
         "type": "scatter",
         "x": [
          1820000,
          12250000
         ],
         "xaxis": "x",
         "y": [
          1820000,
          12250000
         ],
         "yaxis": "y"
        },
        {
         "hovertemplate": "Preço Real: %{x}<br>Preço Previsto: %{y}",
         "marker": {
          "color": "darkorange",
          "opacity": 0.7
         },
         "mode": "markers",
         "name": "Ridge Regression",
         "type": "scatter",
         "x": {
          "bdata": "MJw4AJB4ZQBIkjkA+MxiACj2RQCQeGUAoMRKADCFJwDQ1hwAQL4kALCalgBIqUoAuM0zAJB4ZQBQYiUAcG1FADhCKwA4h14AqBIiAMiMbgBI6lQAwIo3ADDKWgCgrTkAUGIlANhiugD4i1gA4Gc1ADAPjgA4RlQA+N9KABiTTwDo+j8AsCdBALi2IgDYkyAAYNwsAJB4ZQBAFkAAqL4vAJSGKwC45EQAUJBHAFhNSwDw+E0A2O9kAMChSAAYk08AQBZAAFiSfgDAijcAUGIlAIC5KgBouJMAIAsgAKiBTgCA/l0AKN80ABjnQQBAFkAAQBZAAPDhPACQeGUAYMUbAACKZgA4QisAiHYuAMCKNwCIjT8AMJw4AIgmZQDQG1AAuOREAEipSgBwm2cAgNA7AFC+aQAYvUgA4Gc1ALBVYwCIY0YALE57ALBVYwBQeTYAkOu6AMD9jACgligAGNiCANDtLQCIu2EAOPJhALAQMACQMzIAAEUzAOCVVwCYHlgA2NhTALCDhQC45EQAaIZIAAC4iAAgUFMAAKF3AKCWKABI6lQAGMFxAGAhYAAQqCkA0NYcAA==",
          "dtype": "i4"
         },
         "xaxis": "x2",
         "y": {
          "bdata": "WeX/rNPFRkHwqhLpRd9RQbbscpHxy1JBavHCMtjiV0GxD5hqiCBRQQJJqJzI5FhBTiSGvk5eUEGQdBa+jM1GQSmLa4Iz5UZB2M13k3HeRkEqPMvJiaNaQeYCwFQtNVFBdl4HNJIyU0FY5fE55ghcQXd1SRNInUZBUIC/R5flWEHzCZDhbQRMQdYd+v7TTllBqjm1lTvEU0GlYPbhLQJhQZ7U/Q+aiFZB2fESIv2VTUHoeNDennlXQZB0Fr6MzUZBqwF4gEORR0EE4TCfW+deQajqNkOH1FNBxSwlwRAaS0FqOjrnrdRbQYI9Mn451FFBR6yMAhTqTUEq2uOsLB1WQcQomZjSi1NBeJGqVwDFUUGr3rsDpYhLQft5SL3wq0VBrHvKBYtJS0EzAUmWvZNNQXrUsAGROlJBqZB2zwyZS0EFBVQrcO1QQf5RhkQ5ZlJBfSIL5NKbTkEyibVQsXlTQV5lXqQTnFRBOuF7HzrmVUFCLUzV/dBUQUBQ7Nq+QFJBiEF5ORGvT0GguM6s7cJZQRLbpZyUYFNB5mXKgBsFSEFaX82wv1xIQagy55KlMVlB7d9j/XQ5SEHAYi6NRupTQWpLmYHU8VdB+Wk9uiqFUEFhj3eLEZ5HQaM8dDb26U5B5yqzdqb+T0GqzH354/tUQTRXOWB6FVZBWomnQ5Z2SUHmajnZbzJYQVJr/H9/40ZBwXKwExYuR0Heso6J6ghQQadzifSljk9B/dYCFO6hR0F+0mDFT2dTQdbQL1e0gVZBV3oP515VTEEoaIK61FlWQWj3AWEwgFdBmsVSgv0KVkHkIIM4yqxbQeiMfcLP1FBBSWL+Ky7GSEF9HQIc+eFOQX7bsr2TLlJBpndESleMXUEq34tMq7xUQZrazmjb4EZBPxiu/T31Y0Gw5qIbg9NSQXiabd2lDlRBAFVRfDaHXEF5MSY8YMlNQVb/7dNzDFlBwk11R/LQUkF3dUkTSJ1GQTkq4V6HlEtBzo60Qm7rR0H8g0XIbztaQVJrvZIIeFpBk0yoS1BQUkEkenfLEwhQQSShC5uu5k5BwP85Zd2LVEGgvsc40VJfQf6piJCTwldBIEzmO7txXUEfSt5LVXJIQfSAS0Bt7VVBqmhaGm2hUkEMu2Tcb4pYQW8WOPsnfk1Bc9O747q/RkE=",
          "dtype": "f8"
         },
         "yaxis": "y2"
        },
        {
         "line": {
          "color": "red",
          "dash": "dash"
         },
         "mode": "lines",
         "name": "Linha ideal",
         "type": "scatter",
         "x": [
          1820000,
          12250000
         ],
         "xaxis": "x2",
         "y": [
          1820000,
          12250000
         ],
         "yaxis": "y2"
        }
       ],
       "layout": {
        "annotations": [
         {
          "font": {
           "size": 16
          },
          "showarrow": false,
          "text": "Regressão Linear (Sem Ajuste)",
          "x": 0.225,
          "xanchor": "center",
          "xref": "paper",
          "y": 1,
          "yanchor": "bottom",
          "yref": "paper"
         },
         {
          "font": {
           "size": 16
          },
          "showarrow": false,
          "text": "Regressão Ridge (Com Ajuste)",
          "x": 0.775,
          "xanchor": "center",
          "xref": "paper",
          "y": 1,
          "yanchor": "bottom",
          "yref": "paper"
         }
        ],
        "height": 600,
        "showlegend": true,
        "template": {
         "data": {
          "bar": [
           {
            "error_x": {
             "color": "#2a3f5f"
            },
            "error_y": {
             "color": "#2a3f5f"
            },
            "marker": {
             "line": {
              "color": "#E5ECF6",
              "width": 0.5
             },
             "pattern": {
              "fillmode": "overlay",
              "size": 10,
              "solidity": 0.2
             }
            },
            "type": "bar"
           }
          ],
          "barpolar": [
           {
            "marker": {
             "line": {
              "color": "#E5ECF6",
              "width": 0.5
             },
             "pattern": {
              "fillmode": "overlay",
              "size": 10,
              "solidity": 0.2
             }
            },
            "type": "barpolar"
           }
          ],
          "carpet": [
           {
            "aaxis": {
             "endlinecolor": "#2a3f5f",
             "gridcolor": "white",
             "linecolor": "white",
             "minorgridcolor": "white",
             "startlinecolor": "#2a3f5f"
            },
            "baxis": {
             "endlinecolor": "#2a3f5f",
             "gridcolor": "white",
             "linecolor": "white",
             "minorgridcolor": "white",
             "startlinecolor": "#2a3f5f"
            },
            "type": "carpet"
           }
          ],
          "choropleth": [
           {
            "colorbar": {
             "outlinewidth": 0,
             "ticks": ""
            },
            "type": "choropleth"
           }
          ],
          "contour": [
           {
            "colorbar": {
             "outlinewidth": 0,
             "ticks": ""
            },
            "colorscale": [
             [
              0,
              "#0d0887"
             ],
             [
              0.1111111111111111,
              "#46039f"
             ],
             [
              0.2222222222222222,
              "#7201a8"
             ],
             [
              0.3333333333333333,
              "#9c179e"
             ],
             [
              0.4444444444444444,
              "#bd3786"
             ],
             [
              0.5555555555555556,
              "#d8576b"
             ],
             [
              0.6666666666666666,
              "#ed7953"
             ],
             [
              0.7777777777777778,
              "#fb9f3a"
             ],
             [
              0.8888888888888888,
              "#fdca26"
             ],
             [
              1,
              "#f0f921"
             ]
            ],
            "type": "contour"
           }
          ],
          "contourcarpet": [
           {
            "colorbar": {
             "outlinewidth": 0,
             "ticks": ""
            },
            "type": "contourcarpet"
           }
          ],
          "heatmap": [
           {
            "colorbar": {
             "outlinewidth": 0,
             "ticks": ""
            },
            "colorscale": [
             [
              0,
              "#0d0887"
             ],
             [
              0.1111111111111111,
              "#46039f"
             ],
             [
              0.2222222222222222,
              "#7201a8"
             ],
             [
              0.3333333333333333,
              "#9c179e"
             ],
             [
              0.4444444444444444,
              "#bd3786"
             ],
             [
              0.5555555555555556,
              "#d8576b"
             ],
             [
              0.6666666666666666,
              "#ed7953"
             ],
             [
              0.7777777777777778,
              "#fb9f3a"
             ],
             [
              0.8888888888888888,
              "#fdca26"
             ],
             [
              1,
              "#f0f921"
             ]
            ],
            "type": "heatmap"
           }
          ],
          "histogram": [
           {
            "marker": {
             "pattern": {
              "fillmode": "overlay",
              "size": 10,
              "solidity": 0.2
             }
            },
            "type": "histogram"
           }
          ],
          "histogram2d": [
           {
            "colorbar": {
             "outlinewidth": 0,
             "ticks": ""
            },
            "colorscale": [
             [
              0,
              "#0d0887"
             ],
             [
              0.1111111111111111,
              "#46039f"
             ],
             [
              0.2222222222222222,
              "#7201a8"
             ],
             [
              0.3333333333333333,
              "#9c179e"
             ],
             [
              0.4444444444444444,
              "#bd3786"
             ],
             [
              0.5555555555555556,
              "#d8576b"
             ],
             [
              0.6666666666666666,
              "#ed7953"
             ],
             [
              0.7777777777777778,
              "#fb9f3a"
             ],
             [
              0.8888888888888888,
              "#fdca26"
             ],
             [
              1,
              "#f0f921"
             ]
            ],
            "type": "histogram2d"
           }
          ],
          "histogram2dcontour": [
           {
            "colorbar": {
             "outlinewidth": 0,
             "ticks": ""
            },
            "colorscale": [
             [
              0,
              "#0d0887"
             ],
             [
              0.1111111111111111,
              "#46039f"
             ],
             [
              0.2222222222222222,
              "#7201a8"
             ],
             [
              0.3333333333333333,
              "#9c179e"
             ],
             [
              0.4444444444444444,
              "#bd3786"
             ],
             [
              0.5555555555555556,
              "#d8576b"
             ],
             [
              0.6666666666666666,
              "#ed7953"
             ],
             [
              0.7777777777777778,
              "#fb9f3a"
             ],
             [
              0.8888888888888888,
              "#fdca26"
             ],
             [
              1,
              "#f0f921"
             ]
            ],
            "type": "histogram2dcontour"
           }
          ],
          "mesh3d": [
           {
            "colorbar": {
             "outlinewidth": 0,
             "ticks": ""
            },
            "type": "mesh3d"
           }
          ],
          "parcoords": [
           {
            "line": {
             "colorbar": {
              "outlinewidth": 0,
              "ticks": ""
             }
            },
            "type": "parcoords"
           }
          ],
          "pie": [
           {
            "automargin": true,
            "type": "pie"
           }
          ],
          "scatter": [
           {
            "fillpattern": {
             "fillmode": "overlay",
             "size": 10,
             "solidity": 0.2
            },
            "type": "scatter"
           }
          ],
          "scatter3d": [
           {
            "line": {
             "colorbar": {
              "outlinewidth": 0,
              "ticks": ""
             }
            },
            "marker": {
             "colorbar": {
              "outlinewidth": 0,
              "ticks": ""
             }
            },
            "type": "scatter3d"
           }
          ],
          "scattercarpet": [
           {
            "marker": {
             "colorbar": {
              "outlinewidth": 0,
              "ticks": ""
             }
            },
            "type": "scattercarpet"
           }
          ],
          "scattergeo": [
           {
            "marker": {
             "colorbar": {
              "outlinewidth": 0,
              "ticks": ""
             }
            },
            "type": "scattergeo"
           }
          ],
          "scattergl": [
           {
            "marker": {
             "colorbar": {
              "outlinewidth": 0,
              "ticks": ""
             }
            },
            "type": "scattergl"
           }
          ],
          "scattermap": [
           {
            "marker": {
             "colorbar": {
              "outlinewidth": 0,
              "ticks": ""
             }
            },
            "type": "scattermap"
           }
          ],
          "scattermapbox": [
           {
            "marker": {
             "colorbar": {
              "outlinewidth": 0,
              "ticks": ""
             }
            },
            "type": "scattermapbox"
           }
          ],
          "scatterpolar": [
           {
            "marker": {
             "colorbar": {
              "outlinewidth": 0,
              "ticks": ""
             }
            },
            "type": "scatterpolar"
           }
          ],
          "scatterpolargl": [
           {
            "marker": {
             "colorbar": {
              "outlinewidth": 0,
              "ticks": ""
             }
            },
            "type": "scatterpolargl"
           }
          ],
          "scatterternary": [
           {
            "marker": {
             "colorbar": {
              "outlinewidth": 0,
              "ticks": ""
             }
            },
            "type": "scatterternary"
           }
          ],
          "surface": [
           {
            "colorbar": {
             "outlinewidth": 0,
             "ticks": ""
            },
            "colorscale": [
             [
              0,
              "#0d0887"
             ],
             [
              0.1111111111111111,
              "#46039f"
             ],
             [
              0.2222222222222222,
              "#7201a8"
             ],
             [
              0.3333333333333333,
              "#9c179e"
             ],
             [
              0.4444444444444444,
              "#bd3786"
             ],
             [
              0.5555555555555556,
              "#d8576b"
             ],
             [
              0.6666666666666666,
              "#ed7953"
             ],
             [
              0.7777777777777778,
              "#fb9f3a"
             ],
             [
              0.8888888888888888,
              "#fdca26"
             ],
             [
              1,
              "#f0f921"
             ]
            ],
            "type": "surface"
           }
          ],
          "table": [
           {
            "cells": {
             "fill": {
              "color": "#EBF0F8"
             },
             "line": {
              "color": "white"
             }
            },
            "header": {
             "fill": {
              "color": "#C8D4E3"
             },
             "line": {
              "color": "white"
             }
            },
            "type": "table"
           }
          ]
         },
         "layout": {
          "annotationdefaults": {
           "arrowcolor": "#2a3f5f",
           "arrowhead": 0,
           "arrowwidth": 1
          },
          "autotypenumbers": "strict",
          "coloraxis": {
           "colorbar": {
            "outlinewidth": 0,
            "ticks": ""
           }
          },
          "colorscale": {
           "diverging": [
            [
             0,
             "#8e0152"
            ],
            [
             0.1,
             "#c51b7d"
            ],
            [
             0.2,
             "#de77ae"
            ],
            [
             0.3,
             "#f1b6da"
            ],
            [
             0.4,
             "#fde0ef"
            ],
            [
             0.5,
             "#f7f7f7"
            ],
            [
             0.6,
             "#e6f5d0"
            ],
            [
             0.7,
             "#b8e186"
            ],
            [
             0.8,
             "#7fbc41"
            ],
            [
             0.9,
             "#4d9221"
            ],
            [
             1,
             "#276419"
            ]
           ],
           "sequential": [
            [
             0,
             "#0d0887"
            ],
            [
             0.1111111111111111,
             "#46039f"
            ],
            [
             0.2222222222222222,
             "#7201a8"
            ],
            [
             0.3333333333333333,
             "#9c179e"
            ],
            [
             0.4444444444444444,
             "#bd3786"
            ],
            [
             0.5555555555555556,
             "#d8576b"
            ],
            [
             0.6666666666666666,
             "#ed7953"
            ],
            [
             0.7777777777777778,
             "#fb9f3a"
            ],
            [
             0.8888888888888888,
             "#fdca26"
            ],
            [
             1,
             "#f0f921"
            ]
           ],
           "sequentialminus": [
            [
             0,
             "#0d0887"
            ],
            [
             0.1111111111111111,
             "#46039f"
            ],
            [
             0.2222222222222222,
             "#7201a8"
            ],
            [
             0.3333333333333333,
             "#9c179e"
            ],
            [
             0.4444444444444444,
             "#bd3786"
            ],
            [
             0.5555555555555556,
             "#d8576b"
            ],
            [
             0.6666666666666666,
             "#ed7953"
            ],
            [
             0.7777777777777778,
             "#fb9f3a"
            ],
            [
             0.8888888888888888,
             "#fdca26"
            ],
            [
             1,
             "#f0f921"
            ]
           ]
          },
          "colorway": [
           "#636efa",
           "#EF553B",
           "#00cc96",
           "#ab63fa",
           "#FFA15A",
           "#19d3f3",
           "#FF6692",
           "#B6E880",
           "#FF97FF",
           "#FECB52"
          ],
          "font": {
           "color": "#2a3f5f"
          },
          "geo": {
           "bgcolor": "white",
           "lakecolor": "white",
           "landcolor": "#E5ECF6",
           "showlakes": true,
           "showland": true,
           "subunitcolor": "white"
          },
          "hoverlabel": {
           "align": "left"
          },
          "hovermode": "closest",
          "mapbox": {
           "style": "light"
          },
          "paper_bgcolor": "white",
          "plot_bgcolor": "#E5ECF6",
          "polar": {
           "angularaxis": {
            "gridcolor": "white",
            "linecolor": "white",
            "ticks": ""
           },
           "bgcolor": "#E5ECF6",
           "radialaxis": {
            "gridcolor": "white",
            "linecolor": "white",
            "ticks": ""
           }
          },
          "scene": {
           "xaxis": {
            "backgroundcolor": "#E5ECF6",
            "gridcolor": "white",
            "gridwidth": 2,
            "linecolor": "white",
            "showbackground": true,
            "ticks": "",
            "zerolinecolor": "white"
           },
           "yaxis": {
            "backgroundcolor": "#E5ECF6",
            "gridcolor": "white",
            "gridwidth": 2,
            "linecolor": "white",
            "showbackground": true,
            "ticks": "",
            "zerolinecolor": "white"
           },
           "zaxis": {
            "backgroundcolor": "#E5ECF6",
            "gridcolor": "white",
            "gridwidth": 2,
            "linecolor": "white",
            "showbackground": true,
            "ticks": "",
            "zerolinecolor": "white"
           }
          },
          "shapedefaults": {
           "line": {
            "color": "#2a3f5f"
           }
          },
          "ternary": {
           "aaxis": {
            "gridcolor": "white",
            "linecolor": "white",
            "ticks": ""
           },
           "baxis": {
            "gridcolor": "white",
            "linecolor": "white",
            "ticks": ""
           },
           "bgcolor": "#E5ECF6",
           "caxis": {
            "gridcolor": "white",
            "linecolor": "white",
            "ticks": ""
           }
          },
          "title": {
           "x": 0.05
          },
          "xaxis": {
           "automargin": true,
           "gridcolor": "white",
           "linecolor": "white",
           "ticks": "",
           "title": {
            "standoff": 15
           },
           "zerolinecolor": "white",
           "zerolinewidth": 2
          },
          "yaxis": {
           "automargin": true,
           "gridcolor": "white",
           "linecolor": "white",
           "ticks": "",
           "title": {
            "standoff": 15
           },
           "zerolinecolor": "white",
           "zerolinewidth": 2
          }
         }
        },
        "title": {
         "text": "Comparação: Regressão Linear vs Ridge (com ajuste de hiperparâmetros)"
        },
        "width": 1400,
        "xaxis": {
         "anchor": "y",
         "domain": [
          0,
          0.45
         ]
        },
        "xaxis2": {
         "anchor": "y2",
         "domain": [
          0.55,
          1
         ]
        },
        "yaxis": {
         "anchor": "x",
         "domain": [
          0,
          1
         ]
        },
        "yaxis2": {
         "anchor": "x2",
         "domain": [
          0,
          1
         ]
        }
       }
      }
     },
     "metadata": {},
     "output_type": "display_data"
    }
   ],
   "source": [
    "# Gráfico comparativo (antes e depois do ajuste Ridge)\n",
    "fig = make_subplots(rows=1, cols=2, subplot_titles=[\n",
    "    \"Regressão Linear (Sem Ajuste)\",\n",
    "    \"Regressão Ridge (Com Ajuste)\"\n",
    "])\n",
    "\n",
    "fig.add_trace(\n",
    "    go.Scatter(\n",
    "        x=y_test, y=y_pred,\n",
    "        mode='markers',\n",
    "        name='Linear Regression',\n",
    "        marker=dict(color='royalblue', opacity=0.7),\n",
    "        hovertemplate='Preço Real: %{x}<br>Preço Previsto: %{y}'\n",
    "    ),\n",
    "    row=1, col=1\n",
    ")\n",
    "\n",
    "fig.add_trace(\n",
    "    go.Scatter(\n",
    "        x=[y_test.min(), y_test.max()],\n",
    "        y=[y_test.min(), y_test.max()],\n",
    "        mode='lines',\n",
    "        name='Linha ideal',\n",
    "        line=dict(color='red', dash='dash')\n",
    "    ),\n",
    "    row=1, col=1\n",
    ")\n",
    "\n",
    "fig.add_trace(\n",
    "    go.Scatter(\n",
    "        x=y_test, y=y_pred_ridge,\n",
    "        mode='markers',\n",
    "        name='Ridge Regression',\n",
    "        marker=dict(color='darkorange', opacity=0.7),\n",
    "        hovertemplate='Preço Real: %{x}<br>Preço Previsto: %{y}'\n",
    "    ),\n",
    "    row=1, col=2\n",
    ")\n",
    "\n",
    "fig.add_trace(\n",
    "    go.Scatter(\n",
    "        x=[y_test.min(), y_test.max()],\n",
    "        y=[y_test.min(), y_test.max()],\n",
    "        mode='lines',\n",
    "        name='Linha ideal',\n",
    "        line=dict(color='red', dash='dash')\n",
    "    ),\n",
    "    row=1, col=2\n",
    ")\n",
    "\n",
    "fig.update_layout(\n",
    "    title=\"Comparação: Regressão Linear vs Ridge (com ajuste de hiperparâmetros)\",\n",
    "    height=600,\n",
    "    width=1400,\n",
    "    showlegend=True\n",
    ")\n",
    "\n",
    "fig.show()\n",
    "\n",
    "#| Métrica   | Regressão Linear Múltipla (sem ajuste) | Ridge (após ajuste) |\n",
    "#|-----------|----------------------------------------|---------------------|\n",
    "#| **R²**    | **0.6305**                             | 0.6299              |\n",
    "#  **MAE**   | R$ 942.516                             | **R$ 941.226**      |\n",
    "#| **RMSE**  | **R$ 1.303.993**                       | R$ 1.305.034        |\n",
    "# conclusão que refinou muito pouco o modelo.\n"
   ]
  },
  {
   "cell_type": "code",
   "execution_count": 56,
   "metadata": {},
   "outputs": [
    {
     "data": {
      "text/plain": [
       "'\\n### Comparação Geral:\\n- O **Ridge** supera o **Random Forest** em todas as métricas:\\n  - Explica mais da variância dos dados (R² mais alto).\\n  - Tem menor erro absoluto médio (MAE mais baixo).\\n  - Tem menor erro quadrático médio (RMSE mais baixo).\\n'"
      ]
     },
     "execution_count": 56,
     "metadata": {},
     "output_type": "execute_result"
    }
   ],
   "source": [
    "joblib.dump({\n",
    "    'modelo': melhor_ridge,\n",
    "    'scaler': scaler\n",
    "}, '../models/modelo_ridge.pkl')\n",
    "base_casas.to_csv(\"../data/processed/Housing_cleaned.csv\", index=False)\n",
    "'''\n",
    "### Comparação Geral:\n",
    "- O **Ridge** supera o **Random Forest** em todas as métricas:\n",
    "  - Explica mais da variância dos dados (R² mais alto).\n",
    "  - Tem menor erro absoluto médio (MAE mais baixo).\n",
    "  - Tem menor erro quadrático médio (RMSE mais baixo).\n",
    "'''"
   ]
  }
 ],
 "metadata": {
  "kernelspec": {
   "display_name": "property-price",
   "language": "python",
   "name": "python3"
  },
  "language_info": {
   "codemirror_mode": {
    "name": "ipython",
    "version": 3
   },
   "file_extension": ".py",
   "mimetype": "text/x-python",
   "name": "python",
   "nbconvert_exporter": "python",
   "pygments_lexer": "ipython3",
   "version": "3.9.21"
  }
 },
 "nbformat": 4,
 "nbformat_minor": 2
}
